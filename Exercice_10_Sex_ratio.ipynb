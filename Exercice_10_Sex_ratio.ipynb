{
 "cells": [
  {
   "cell_type": "markdown",
   "metadata": {},
   "source": [
    "##  Ex10: Pour le modèle de Wright-Fisher, représenter graphiquement la proportion de la taille valide en fonction de la proportion de mâles dans la population."
   ]
  },
  {
   "cell_type": "markdown",
   "metadata": {},
   "source": [
    "### 1) Un peu de préambule"
   ]
  },
  {
   "cell_type": "markdown",
   "metadata": {},
   "source": [
    "#### Taille consensus et taille valide/effective"
   ]
  },
  {
   "cell_type": "markdown",
   "metadata": {},
   "source": [
    "Un postulat du modèle de Wright-Fisher est que le nombre de mâles et de femelles est équivalent. On peut appeler \"taille consensus\" la somme de tous les individus de la popualation. Toutefois, dans une popualtion, tous les individus ne contribuent pas aux gamètes de la génération suivante (comportements reproductifs). On appelle taille valide ou effective le nombre d'individus contribuant au pool de gamètes (se reproduisant)."
   ]
  },
  {
   "cell_type": "markdown",
   "metadata": {},
   "source": [
    "#### Le ratio de sexe"
   ]
  },
  {
   "cell_type": "markdown",
   "metadata": {},
   "source": [
    "Typiquement, tous les mâles d'une population ne se reproduise pas. Dès lors, la taille effective (Ne) est plus petite que la taille consensus. Le \"breeding ratio\" influe la Ne suivant la relation suivante :\n",
    "\n",
    "Ne = 4 * ( NmNf/ (Nm+Nf) )\n",
    "\n",
    "où Nm et Nf représente respectivement le nombre de mâles et femelles se reproduisant"
   ]
  },
  {
   "cell_type": "markdown",
   "metadata": {},
   "source": [
    "#### Exemple"
   ]
  },
  {
   "cell_type": "markdown",
   "metadata": {},
   "source": [
    "21 elephants se reproduisant (71 observés) pour 550 femelles. La Ne est de 80,9 c'est à dire une population idéale de Wright-Fisher avec 40 males et 40 femelles"
   ]
  },
  {
   "cell_type": "markdown",
   "metadata": {},
   "source": [
    "### 2) Modelling la proportion de mâle dans une population "
   ]
  },
  {
   "cell_type": "code",
   "execution_count": 63,
   "metadata": {},
   "outputs": [],
   "source": [
    "import random \n",
    "import numpy as np\n",
    "import pandas as pd\n",
    "from matplotlib import pyplot as plt\n",
    "import seaborn as sns"
   ]
  },
  {
   "cell_type": "markdown",
   "metadata": {},
   "source": [
    "#### Paramètres de la simulation"
   ]
  },
  {
   "cell_type": "code",
   "execution_count": 84,
   "metadata": {},
   "outputs": [],
   "source": [
    "N = 1000"
   ]
  },
  {
   "cell_type": "markdown",
   "metadata": {},
   "source": [
    "#### Fonction : Population effective sur base de la proportion de mâles dans la population "
   ]
  },
  {
   "cell_type": "code",
   "execution_count": 70,
   "metadata": {},
   "outputs": [],
   "source": [
    "def Get_Ne(Size_pop, percent_males) :\n",
    "    Nm = Size_pop * (percent_males/100)\n",
    "    Nf = Size_pop - Nm\n",
    "    Ne = 4*( (Nm*Nf) / (Nm + Nf) )\n",
    "    Ne = int(Ne) if ((int(Ne) % 2) == 0) else int(Ne) + 1 # Getting the closest even number\n",
    "    return (Ne)"
   ]
  },
  {
   "cell_type": "markdown",
   "metadata": {},
   "source": [
    "#### Un data frame"
   ]
  },
  {
   "cell_type": "markdown",
   "metadata": {},
   "source": [
    "On crée un dataframe avec 100 rows (les % de 1 à 100) car on ne va tester que les % entier"
   ]
  },
  {
   "cell_type": "code",
   "execution_count": 85,
   "metadata": {},
   "outputs": [],
   "source": [
    "df = pd.DataFrame({'percent_male' : [i for i in range(0, 101)],\n",
    "                        'Ne' : [0 for steps in range(0, 101)]} ,  \n",
    "                       columns= [ 'percent_male','Ne'])"
   ]
  },
  {
   "cell_type": "markdown",
   "metadata": {},
   "source": [
    "#### Incrémente le dataframe avec les populations effectives"
   ]
  },
  {
   "cell_type": "code",
   "execution_count": 86,
   "metadata": {},
   "outputs": [],
   "source": [
    "for i in range(0, 101):\n",
    "    df.loc[df[\"percent_male\"] == i, 'Ne'] += Get_Ne(N, i)"
   ]
  },
  {
   "cell_type": "markdown",
   "metadata": {},
   "source": [
    "#### Visualisation"
   ]
  },
  {
   "cell_type": "code",
   "execution_count": 87,
   "metadata": {},
   "outputs": [
    {
     "data": {
      "image/png": "[encoded data removed]",
      "text/plain": [
       "<Figure size 432x288 with 1 Axes>"
      ]
     },
     "metadata": {},
     "output_type": "display_data"
    }
   ],
   "source": [
    "sns.set()\n",
    "sns.lineplot(x = 'percent_male', y = 'Ne', data = df)\n",
    "plt.xlim(-5, 105)\n",
    "plt.show()"
   ]
  }
 ],
 "metadata": {
  "kernelspec": {
   "display_name": "Python 3",
   "language": "python",
   "name": "python3"
  },
  "language_info": {
   "codemirror_mode": {
    "name": "ipython",
    "version": 3
   },
   "file_extension": ".py",
   "mimetype": "text/x-python",
   "name": "python",
   "nbconvert_exporter": "python",
   "pygments_lexer": "ipython3",
   "version": "3.6.8"
  }
 },
 "nbformat": 4,
 "nbformat_minor": 2
}
