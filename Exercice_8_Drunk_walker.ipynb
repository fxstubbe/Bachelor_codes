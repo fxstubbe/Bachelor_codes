{
 "cells": [
  {
   "cell_type": "markdown",
   "metadata": {},
   "source": [
    "## Ex8: La promenade aléatoire démarre à présent sur le côté gauche du pont. Quelle est la probabilité que le promeneur tombe du côté droit? Et du côté gauche? Représenter les résultats graphiquement.\n"
   ]
  },
  {
   "cell_type": "markdown",
   "metadata": {},
   "source": [
    "### 1) Paramètres de la simulation"
   ]
  },
  {
   "cell_type": "markdown",
   "metadata": {},
   "source": [
    "Définition du pont et du point de départ sur le pont"
   ]
  },
  {
   "cell_type": "code",
   "execution_count": 21,
   "metadata": {},
   "outputs": [],
   "source": [
    "Left_side = -3\n",
    "Right_side = 3\n",
    "Start = -3"
   ]
  },
  {
   "cell_type": "markdown",
   "metadata": {},
   "source": [
    "Définition du nombre de pas maximum et du nombre de marcheurs"
   ]
  },
  {
   "cell_type": "code",
   "execution_count": 22,
   "metadata": {},
   "outputs": [],
   "source": [
    "Steps = 100\n",
    "Walkers = 10000"
   ]
  },
  {
   "cell_type": "markdown",
   "metadata": {},
   "source": [
    "### 2) Packages et Initialisation"
   ]
  },
  {
   "cell_type": "code",
   "execution_count": 2,
   "metadata": {},
   "outputs": [],
   "source": [
    "import random\n",
    "import numpy as np\n",
    "import pandas as pd\n",
    "from matplotlib import pyplot as plt\n",
    "import seaborn as sns"
   ]
  },
  {
   "cell_type": "markdown",
   "metadata": {},
   "source": [
    "Un data frame\n",
    "    - col 1 : distance avant la chute\n",
    "    - col 2 : marcheurs étant tombés\n",
    "    - col 1 : coté de la chute\n"
   ]
  },
  {
   "cell_type": "code",
   "execution_count": 23,
   "metadata": {},
   "outputs": [],
   "source": [
    "df_left = pd.DataFrame({'Side' : ['left' for steps in range(Steps+1)],\n",
    "                        'NB_Steps' : [steps for steps in range(Steps+1)] , \n",
    "                        'Falling_Walkers' : [0 for walkers in range(Steps+1)]}, \n",
    "                       columns=[ 'Side','NB_Steps', 'Falling_Walkers'])\n",
    "df_right = pd.DataFrame({'Side' : ['right' for steps in range(Steps+1)],\n",
    "                        'NB_Steps' : [steps for steps in range(Steps+1)] , \n",
    "                        'Falling_Walkers' : [0 for walkers in range(Steps+1)]}, \n",
    "                       columns=[ 'Side','NB_Steps', 'Falling_Walkers'])\n",
    "rwalk = pd.concat([df_left, df_right])"
   ]
  },
  {
   "cell_type": "markdown",
   "metadata": {},
   "source": [
    "### 3) Définition des fonctions"
   ]
  },
  {
   "cell_type": "markdown",
   "metadata": {},
   "source": [
    "##### La fonction de marche\n"
   ]
  },
  {
   "cell_type": "code",
   "execution_count": 4,
   "metadata": {},
   "outputs": [],
   "source": [
    "def Walk():\n",
    "    deplacement = random.choice([-1,1])\n",
    "    return deplacement"
   ]
  },
  {
   "cell_type": "markdown",
   "metadata": {},
   "source": [
    "##### La fonction de distance de marche avant la chute"
   ]
  },
  {
   "cell_type": "markdown",
   "metadata": {},
   "source": [
    "Prends en argument :\n",
    "    - Le nombre maximum de pas que le marcheur peut faire\n",
    "    - L'extrémité gauche du pont\n",
    "    - L'extrémité droite du pont\n",
    "    - Le point de départ du marcheur\n",
    "    \n",
    "Retourne : \n",
    "    - un tupple : ( côté de la chute, distance avant la chute ) \n",
    "    "
   ]
  },
  {
   "cell_type": "code",
   "execution_count": 5,
   "metadata": {},
   "outputs": [],
   "source": [
    "def Falling_distance(max_steps, left_start, right_start, start_position):\n",
    "    \n",
    "    position = start_position\n",
    "    distance = 0\n",
    "    \n",
    "    for steps in range (max_steps):\n",
    "        position += Walk()\n",
    "        distance += 1\n",
    "        if position > right_start :\n",
    "            return (\"right\", distance)\n",
    "            break\n",
    "        if position < left_start :\n",
    "            return (\"left\", distance)\n",
    "            break\n",
    "            \n",
    "    if distance == max_steps : \n",
    "            return (\"alive\", distance)"
   ]
  },
  {
   "cell_type": "markdown",
   "metadata": {},
   "source": [
    "### 4) Simulation"
   ]
  },
  {
   "cell_type": "markdown",
   "metadata": {},
   "source": [
    "On lance plusieurs marcheurs en même temps et on incrémente le dataframe\n"
   ]
  },
  {
   "cell_type": "code",
   "execution_count": 24,
   "metadata": {},
   "outputs": [],
   "source": [
    "for i in range (Walkers):\n",
    "    FallingSide, FallingDistance  = Falling_distance(Steps, Left_side, Right_side, Start)\n",
    "    if FallingSide == 'alive' : \n",
    "        pass\n",
    "    else: \n",
    "        if FallingSide == 'left':\n",
    "            rwalk.loc[(rwalk[\"Side\"] == 'left') & (rwalk[\"NB_Steps\"] == int(FallingDistance)), 'Falling_Walkers'] += 1\n",
    "        else: \n",
    "            rwalk.loc[(rwalk[\"Side\"] == 'right') & (rwalk[\"NB_Steps\"] == int(FallingDistance)), 'Falling_Walkers'] += 1"
   ]
  },
  {
   "cell_type": "markdown",
   "metadata": {},
   "source": [
    "On ajoute une colonne, contenant la probabilité, au dataframe\n"
   ]
  },
  {
   "cell_type": "code",
   "execution_count": 27,
   "metadata": {},
   "outputs": [],
   "source": [
    "col = rwalk.apply ( lambda row : ((row['Falling_Walkers']) / Walkers)*100, axis = 1 ) \n",
    "rwalk[\"% Falling\"] = col"
   ]
  },
  {
   "cell_type": "markdown",
   "metadata": {},
   "source": [
    "### 5) Visualisation"
   ]
  },
  {
   "cell_type": "code",
   "execution_count": 41,
   "metadata": {},
   "outputs": [
    {
     "data": {
      "image/png": "[encoded data removed]",
      "text/plain": [
       "<Figure size 432x288 with 1 Axes>"
      ]
     },
     "metadata": {},
     "output_type": "display_data"
    }
   ],
   "source": [
    "sns.set()\n",
    "sns.lineplot(x = 'NB_Steps', y = '% Falling', hue = 'Side', data = rwalk)\n",
    "plt.ylim(0, rwalk['% Falling'].max()+2)\n",
    "plt.xlim(0, None)\n",
    "\n",
    "plt.show()"
   ]
  }
 ],
 "metadata": {
  "kernelspec": {
   "display_name": "Python 3",
   "language": "python",
   "name": "python3"
  },
  "language_info": {
   "codemirror_mode": {
    "name": "ipython",
    "version": 3
   },
   "file_extension": ".py",
   "mimetype": "text/x-python",
   "name": "python",
   "nbconvert_exporter": "python",
   "pygments_lexer": "ipython3",
   "version": "3.6.8"
  }
 },
 "nbformat": 4,
 "nbformat_minor": 2
}
